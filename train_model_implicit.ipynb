{
 "cells": [
  {
   "cell_type": "code",
   "execution_count": 1,
   "id": "a1b95074-2c4b-459d-bd56-d0f40ba16f19",
   "metadata": {},
   "outputs": [
    {
     "name": "stderr",
     "output_type": "stream",
     "text": [
      "C:\\Users\\elect\\anaconda3\\envs\\surprise_env\\lib\\site-packages\\tqdm\\auto.py:21: TqdmWarning: IProgress not found. Please update jupyter and ipywidgets. See https://ipywidgets.readthedocs.io/en/stable/user_install.html\n",
      "  from .autonotebook import tqdm as notebook_tqdm\n",
      "C:\\Users\\elect\\anaconda3\\envs\\surprise_env\\lib\\site-packages\\implicit\\cpu\\als.py:95: RuntimeWarning: OpenBLAS is configured to use 24 threads. It is highly recommended to disable its internal threadpool by setting the environment variable 'OPENBLAS_NUM_THREADS=1' or by calling 'threadpoolctl.threadpool_limits(1, \"blas\")'. Having OpenBLAS use a threadpool can lead to severe performance issues here.\n",
      "  check_blas_config()\n",
      "100%|██████████| 20/20 [00:08<00:00,  2.42it/s]"
     ]
    },
    {
     "name": "stdout",
     "output_type": "stream",
     "text": [
      "✅ Modèle ALS entraîné et sauvegardé !\n"
     ]
    },
    {
     "name": "stderr",
     "output_type": "stream",
     "text": [
      "\n"
     ]
    }
   ],
   "source": [
    "import pandas as pd\n",
    "import numpy as np\n",
    "import os\n",
    "import pickle\n",
    "from implicit.als import AlternatingLeastSquares\n",
    "from scipy.sparse import coo_matrix\n",
    "\n",
    "# Charger les données\n",
    "metadata = pd.read_csv(\"articles_metadata.csv\")\n",
    "clicks = pd.concat(\n",
    "    [pd.read_csv(os.path.join(\"clicks\", f)) for f in os.listdir(\"clicks\")],\n",
    "    ignore_index=True\n",
    ")\n",
    "\n",
    "# Encodage users & articles\n",
    "user_ids = clicks[\"user_id\"].astype(\"category\")\n",
    "article_ids = clicks[\"click_article_id\"].astype(\"category\")\n",
    "\n",
    "user_map = dict(enumerate(user_ids.cat.categories))       # index → user_id\n",
    "article_map = dict(enumerate(article_ids.cat.categories)) # index → article_id\n",
    "\n",
    "# Construction matrice utilisateur-article (interactions binaires)\n",
    "matrix = coo_matrix(\n",
    "    (np.ones(len(clicks)), (user_ids.cat.codes, article_ids.cat.codes))\n",
    ").tocsr()\n",
    "\n",
    "# Entraînement du modèle ALS (implicit feedback)\n",
    "model = AlternatingLeastSquares(\n",
    "    factors=64,      # dimension des embeddings\n",
    "    regularization=0.01,\n",
    "    iterations=20,\n",
    "    use_gpu=False    # True si tu as CUDA\n",
    ")\n",
    "model.fit(matrix)\n",
    "\n",
    "# Sauvegarder le modèle + mappings\n",
    "with open(\"implicit_model.pkl\", \"wb\") as f:\n",
    "    pickle.dump(model, f)\n",
    "\n",
    "with open(\"user_map.pkl\", \"wb\") as f:\n",
    "    pickle.dump(user_map, f)\n",
    "\n",
    "with open(\"article_map.pkl\", \"wb\") as f:\n",
    "    pickle.dump(article_map, f)\n",
    "\n",
    "print(\"✅ Modèle ALS entraîné et sauvegardé !\")\n"
   ]
  },
  {
   "cell_type": "code",
   "execution_count": null,
   "id": "466de65a-ec7e-41cd-9e13-5ab1ab6a6e9d",
   "metadata": {},
   "outputs": [],
   "source": []
  },
  {
   "cell_type": "code",
   "execution_count": null,
   "id": "5cd28604-3efb-429c-a89d-d5c1bac67416",
   "metadata": {},
   "outputs": [],
   "source": []
  }
 ],
 "metadata": {
  "kernelspec": {
   "display_name": "Python [conda env:surprise_env]",
   "language": "python",
   "name": "conda-env-surprise_env-py"
  },
  "language_info": {
   "codemirror_mode": {
    "name": "ipython",
    "version": 3
   },
   "file_extension": ".py",
   "mimetype": "text/x-python",
   "name": "python",
   "nbconvert_exporter": "python",
   "pygments_lexer": "ipython3",
   "version": "3.9.23"
  }
 },
 "nbformat": 4,
 "nbformat_minor": 5
}
