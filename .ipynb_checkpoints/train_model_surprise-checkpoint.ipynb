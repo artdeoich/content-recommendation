{
 "cells": [
  {
   "cell_type": "code",
   "execution_count": null,
   "id": "eb26a324-a329-4cec-a300-0c40e75fb4a2",
   "metadata": {},
   "outputs": [],
   "source": [
    "import pandas as pd\n",
    "import pickle\n",
    "from surprise import Dataset, Reader, SVD\n",
    "\n",
    "# --- Charger les clics ---\n",
    "clicks_folder = \"clicks\"\n",
    "all_clicks = []\n",
    "i = 0\n",
    "while True:\n",
    "    filename = f\"clicks_hour_{i:03d}.csv\"\n",
    "    try:\n",
    "        df = pd.read_csv(f\"{clicks_folder}/{filename}\")\n",
    "    except FileNotFoundError:\n",
    "        break\n",
    "    all_clicks.append(df)\n",
    "    i += 1\n",
    "\n",
    "clicks = pd.concat(all_clicks, ignore_index=True)\n",
    "clicks[\"rating\"] = 1.0  # rating implicite\n",
    "\n",
    "# --- Entraînement modèle Surprise ---\n",
    "reader = Reader(rating_scale=(0, 1))\n",
    "data = Dataset.load_from_df(clicks[[\"user_id\", \"click_article_id\", \"rating\"]], reader)\n",
    "trainset = data.build_full_trainset()\n",
    "\n",
    "model = SVD()\n",
    "model.fit(trainset)\n",
    "\n",
    "# Sauvegarde du modèle\n",
    "with open(\"recommendation_model_surprise.pkl\", \"wb\") as f:\n",
    "    pickle.dump(model, f)\n",
    "\n",
    "print(\"Modèle entraîné et sauvegardé en recommendation_model_surprise.pkl\")"
   ]
  }
 ],
 "metadata": {
  "kernelspec": {
   "display_name": "Python [conda env:base] *",
   "language": "python",
   "name": "conda-base-py"
  },
  "language_info": {
   "codemirror_mode": {
    "name": "ipython",
    "version": 3
   },
   "file_extension": ".py",
   "mimetype": "text/x-python",
   "name": "python",
   "nbconvert_exporter": "python",
   "pygments_lexer": "ipython3",
   "version": "3.12.7"
  }
 },
 "nbformat": 4,
 "nbformat_minor": 5
}
